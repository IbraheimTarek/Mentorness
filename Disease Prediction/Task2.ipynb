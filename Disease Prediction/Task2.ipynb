{
 "cells": [
  {
   "cell_type": "markdown",
   "metadata": {},
   "source": [
    "Libraries importing "
   ]
  },
  {
   "cell_type": "code",
   "execution_count": 1,
   "metadata": {},
   "outputs": [],
   "source": [
    "import pandas as pd\n",
    "import numpy as np\n",
    "import matplotlib.pyplot as plt\n",
    "import seaborn as sns\n",
    "from sklearn.model_selection import train_test_split\n",
    "from sklearn.preprocessing import StandardScaler\n",
    "\n",
    "from sklearn.metrics import accuracy_score, precision_score, recall_score, f1_score, confusion_matrix\n"
   ]
  },
  {
   "cell_type": "markdown",
   "metadata": {},
   "source": [
    "Loading the Data"
   ]
  },
  {
   "cell_type": "code",
   "execution_count": 2,
   "metadata": {},
   "outputs": [
    {
     "name": "stdout",
     "output_type": "stream",
     "text": [
      "    Glucose  Cholesterol  Hemoglobin  Platelets  White Blood Cells  \\\n",
      "0       NaN     0.650198    0.713631   0.868491           0.687433   \n",
      "1  0.121786     0.023058    0.944893   0.905372           0.507711   \n",
      "2  0.452539     0.116135    0.544560   0.400640           0.294538   \n",
      "3  0.136609     0.015605    0.419957   0.191487           0.081168   \n",
      "4  0.176737     0.752220    0.971779   0.785286           0.443880   \n",
      "\n",
      "   Red Blood Cells  Hematocrit  Mean Corpuscular Volume  \\\n",
      "0         0.529895    0.290006                 0.631045   \n",
      "1         0.403033    0.164216                 0.307553   \n",
      "2         0.382021    0.625267                 0.295122   \n",
      "3         0.166214    0.073293                 0.668719   \n",
      "4         0.439851    0.894991                 0.442159   \n",
      "\n",
      "   Mean Corpuscular Hemoglobin  Mean Corpuscular Hemoglobin Concentration  \\\n",
      "0                     0.001328                                   0.795829   \n",
      "1                     0.207938                                   0.505562   \n",
      "2                     0.868369                                   0.026808   \n",
      "3                     0.125447                                   0.501051   \n",
      "4                     0.257288                                   0.805987   \n",
      "\n",
      "   ...     HbA1c  LDL Cholesterol  HDL Cholesterol       ALT       AST  \\\n",
      "0  ...  0.502665         0.215560         0.512941  0.064187  0.610827   \n",
      "1  ...  0.856810         0.652465         0.106961  0.942549  0.344261   \n",
      "2  ...  0.466795         0.387332         0.421763  0.007186  0.506918   \n",
      "3  ...  0.016256         0.040137         0.826721  0.265415  0.594148   \n",
      "4  ...  0.429431         0.146294         0.221574  0.015280  0.567115   \n",
      "\n",
      "   Heart Rate  Creatinine  Troponin  C-reactive Protein   Disease  \n",
      "0    0.939485    0.095512  0.465957            0.769230   Healthy  \n",
      "1    0.666368    0.659060  0.816982            0.401166  Diabetes  \n",
      "2    0.431704    0.417295  0.799074            0.779208  Thalasse  \n",
      "3    0.225756         NaN  0.637061            0.354094    Anemia  \n",
      "4         NaN    0.153350  0.794008            0.094970  Thalasse  \n",
      "\n",
      "[5 rows x 25 columns]\n"
     ]
    }
   ],
   "source": [
    "# Load the dataset\n",
    "data = pd.read_csv('data.csv')\n",
    "testdata = pd.read_csv('test_data.csv')\n",
    "# Display the first few rows of the dataset\n",
    "print(data.head())\n"
   ]
  },
  {
   "cell_type": "markdown",
   "metadata": {},
   "source": [
    " Data Preprocessing"
   ]
  },
  {
   "cell_type": "code",
   "execution_count": 3,
   "metadata": {},
   "outputs": [
    {
     "name": "stdout",
     "output_type": "stream",
     "text": [
      "Glucose                                      1\n",
      "Cholesterol                                  0\n",
      "Hemoglobin                                   2\n",
      "Platelets                                    2\n",
      "White Blood Cells                            1\n",
      "Red Blood Cells                              0\n",
      "Hematocrit                                   0\n",
      "Mean Corpuscular Volume                      0\n",
      "Mean Corpuscular Hemoglobin                  0\n",
      "Mean Corpuscular Hemoglobin Concentration    0\n",
      "Insulin                                      0\n",
      "BMI                                          0\n",
      "Systolic Blood Pressure                      0\n",
      "Diastolic Blood Pressure                     0\n",
      "Triglycerides                                0\n",
      "HbA1c                                        0\n",
      "LDL Cholesterol                              1\n",
      "HDL Cholesterol                              1\n",
      "ALT                                          4\n",
      "AST                                          0\n",
      "Heart Rate                                   8\n",
      "Creatinine                                   9\n",
      "Troponin                                     2\n",
      "C-reactive Protein                           0\n",
      "Disease                                      0\n",
      "dtype: int64\n",
      "Encoded y_train:\n",
      "0       0\n",
      "1       1\n",
      "2       1\n",
      "3       1\n",
      "4       1\n",
      "       ..\n",
      "2346    1\n",
      "2347    1\n",
      "2348    1\n",
      "2349    1\n",
      "2350    1\n",
      "Name: Disease, Length: 2351, dtype: int64\n",
      "\n",
      "Encoded y_test:\n",
      "0      1\n",
      "1      1\n",
      "2      1\n",
      "3      1\n",
      "4      1\n",
      "      ..\n",
      "481    1\n",
      "482    1\n",
      "483    1\n",
      "484    1\n",
      "485    1\n",
      "Name: Disease, Length: 486, dtype: int64\n"
     ]
    },
    {
     "name": "stderr",
     "output_type": "stream",
     "text": [
      "C:\\Users\\HIMA\\AppData\\Local\\Temp\\ipykernel_14376\\649270057.py:4: FutureWarning: The default value of numeric_only in DataFrame.mean is deprecated. In a future version, it will default to False. In addition, specifying 'numeric_only=None' is deprecated. Select only valid columns or specify the value of numeric_only to silence this warning.\n",
      "  data = data.fillna(data.mean())\n"
     ]
    }
   ],
   "source": [
    "# Check for missing values\n",
    "print(data.isnull().sum())\n",
    "# Fill missing values if any (for simplicity, using mean of the columns here)\n",
    "data = data.fillna(data.mean())\n",
    "# Separate features and target variable\n",
    "X_train = data.drop('Disease', axis=1)\n",
    "y_train = data['Disease']\n",
    "\n",
    "X_test = testdata.drop('Disease', axis=1)\n",
    "y_test = testdata['Disease']\n",
    "\n",
    "disease_classes = y_train.unique()  # Assuming all disease classes are present in the training set\n",
    "# Define the mapping dictionary\n",
    "mapping = {disease_class: 1 for disease_class in disease_classes}\n",
    "\n",
    "# Apply the mapping to both the training and test target variables\n",
    "y_train = y_train.apply(lambda x: 0 if x == 'Healthy' else 1)\n",
    "y_test = y_test.apply(lambda x: 0 if x == 'Healthy' else 1)\n",
    "\n",
    "# Display the encoded target variables\n",
    "print(\"Encoded y_train:\")\n",
    "print(y_train)\n",
    "\n",
    "print(\"\\nEncoded y_test:\")\n",
    "print(y_test)\n",
    "# Standardize the features\n",
    "scaler = StandardScaler()\n",
    "X_train = scaler.fit_transform(X_train)\n",
    "X_test = scaler.transform(X_test)\n",
    "#  will have a mean of 0 and a standard deviation of 1 after transformation.\n"
   ]
  },
  {
   "cell_type": "markdown",
   "metadata": {},
   "source": [
    "Building and Training the Model"
   ]
  },
  {
   "cell_type": "code",
   "execution_count": 4,
   "metadata": {},
   "outputs": [
    {
     "name": "stderr",
     "output_type": "stream",
     "text": [
      "c:\\Users\\HIMA\\anaconda3\\Lib\\site-packages\\sklearn\\ensemble\\_base.py:156: FutureWarning: `base_estimator` was renamed to `estimator` in version 1.2 and will be removed in 1.4.\n",
      "  warnings.warn(\n"
     ]
    },
    {
     "data": {
      "text/html": [
       "<style>#sk-container-id-1 {color: black;}#sk-container-id-1 pre{padding: 0;}#sk-container-id-1 div.sk-toggleable {background-color: white;}#sk-container-id-1 label.sk-toggleable__label {cursor: pointer;display: block;width: 100%;margin-bottom: 0;padding: 0.3em;box-sizing: border-box;text-align: center;}#sk-container-id-1 label.sk-toggleable__label-arrow:before {content: \"▸\";float: left;margin-right: 0.25em;color: #696969;}#sk-container-id-1 label.sk-toggleable__label-arrow:hover:before {color: black;}#sk-container-id-1 div.sk-estimator:hover label.sk-toggleable__label-arrow:before {color: black;}#sk-container-id-1 div.sk-toggleable__content {max-height: 0;max-width: 0;overflow: hidden;text-align: left;background-color: #f0f8ff;}#sk-container-id-1 div.sk-toggleable__content pre {margin: 0.2em;color: black;border-radius: 0.25em;background-color: #f0f8ff;}#sk-container-id-1 input.sk-toggleable__control:checked~div.sk-toggleable__content {max-height: 200px;max-width: 100%;overflow: auto;}#sk-container-id-1 input.sk-toggleable__control:checked~label.sk-toggleable__label-arrow:before {content: \"▾\";}#sk-container-id-1 div.sk-estimator input.sk-toggleable__control:checked~label.sk-toggleable__label {background-color: #d4ebff;}#sk-container-id-1 div.sk-label input.sk-toggleable__control:checked~label.sk-toggleable__label {background-color: #d4ebff;}#sk-container-id-1 input.sk-hidden--visually {border: 0;clip: rect(1px 1px 1px 1px);clip: rect(1px, 1px, 1px, 1px);height: 1px;margin: -1px;overflow: hidden;padding: 0;position: absolute;width: 1px;}#sk-container-id-1 div.sk-estimator {font-family: monospace;background-color: #f0f8ff;border: 1px dotted black;border-radius: 0.25em;box-sizing: border-box;margin-bottom: 0.5em;}#sk-container-id-1 div.sk-estimator:hover {background-color: #d4ebff;}#sk-container-id-1 div.sk-parallel-item::after {content: \"\";width: 100%;border-bottom: 1px solid gray;flex-grow: 1;}#sk-container-id-1 div.sk-label:hover label.sk-toggleable__label {background-color: #d4ebff;}#sk-container-id-1 div.sk-serial::before {content: \"\";position: absolute;border-left: 1px solid gray;box-sizing: border-box;top: 0;bottom: 0;left: 50%;z-index: 0;}#sk-container-id-1 div.sk-serial {display: flex;flex-direction: column;align-items: center;background-color: white;padding-right: 0.2em;padding-left: 0.2em;position: relative;}#sk-container-id-1 div.sk-item {position: relative;z-index: 1;}#sk-container-id-1 div.sk-parallel {display: flex;align-items: stretch;justify-content: center;background-color: white;position: relative;}#sk-container-id-1 div.sk-item::before, #sk-container-id-1 div.sk-parallel-item::before {content: \"\";position: absolute;border-left: 1px solid gray;box-sizing: border-box;top: 0;bottom: 0;left: 50%;z-index: -1;}#sk-container-id-1 div.sk-parallel-item {display: flex;flex-direction: column;z-index: 1;position: relative;background-color: white;}#sk-container-id-1 div.sk-parallel-item:first-child::after {align-self: flex-end;width: 50%;}#sk-container-id-1 div.sk-parallel-item:last-child::after {align-self: flex-start;width: 50%;}#sk-container-id-1 div.sk-parallel-item:only-child::after {width: 0;}#sk-container-id-1 div.sk-dashed-wrapped {border: 1px dashed gray;margin: 0 0.4em 0.5em 0.4em;box-sizing: border-box;padding-bottom: 0.4em;background-color: white;}#sk-container-id-1 div.sk-label label {font-family: monospace;font-weight: bold;display: inline-block;line-height: 1.2em;}#sk-container-id-1 div.sk-label-container {text-align: center;}#sk-container-id-1 div.sk-container {/* jupyter's `normalize.less` sets `[hidden] { display: none; }` but bootstrap.min.css set `[hidden] { display: none !important; }` so we also need the `!important` here to be able to override the default hidden behavior on the sphinx rendered scikit-learn.org. See: https://github.com/scikit-learn/scikit-learn/issues/21755 */display: inline-block !important;position: relative;}#sk-container-id-1 div.sk-text-repr-fallback {display: none;}</style><div id=\"sk-container-id-1\" class=\"sk-top-container\"><div class=\"sk-text-repr-fallback\"><pre>AdaBoostClassifier(base_estimator=SVC(kernel=&#x27;linear&#x27;, probability=True),\n",
       "                   random_state=42)</pre><b>In a Jupyter environment, please rerun this cell to show the HTML representation or trust the notebook. <br />On GitHub, the HTML representation is unable to render, please try loading this page with nbviewer.org.</b></div><div class=\"sk-container\" hidden><div class=\"sk-item sk-dashed-wrapped\"><div class=\"sk-label-container\"><div class=\"sk-label sk-toggleable\"><input class=\"sk-toggleable__control sk-hidden--visually\" id=\"sk-estimator-id-1\" type=\"checkbox\" ><label for=\"sk-estimator-id-1\" class=\"sk-toggleable__label sk-toggleable__label-arrow\">AdaBoostClassifier</label><div class=\"sk-toggleable__content\"><pre>AdaBoostClassifier(base_estimator=SVC(kernel=&#x27;linear&#x27;, probability=True),\n",
       "                   random_state=42)</pre></div></div></div><div class=\"sk-parallel\"><div class=\"sk-parallel-item\"><div class=\"sk-item\"><div class=\"sk-label-container\"><div class=\"sk-label sk-toggleable\"><input class=\"sk-toggleable__control sk-hidden--visually\" id=\"sk-estimator-id-2\" type=\"checkbox\" ><label for=\"sk-estimator-id-2\" class=\"sk-toggleable__label sk-toggleable__label-arrow\">base_estimator: SVC</label><div class=\"sk-toggleable__content\"><pre>SVC(kernel=&#x27;linear&#x27;, probability=True)</pre></div></div></div><div class=\"sk-serial\"><div class=\"sk-item\"><div class=\"sk-estimator sk-toggleable\"><input class=\"sk-toggleable__control sk-hidden--visually\" id=\"sk-estimator-id-3\" type=\"checkbox\" ><label for=\"sk-estimator-id-3\" class=\"sk-toggleable__label sk-toggleable__label-arrow\">SVC</label><div class=\"sk-toggleable__content\"><pre>SVC(kernel=&#x27;linear&#x27;, probability=True)</pre></div></div></div></div></div></div></div></div></div></div>"
      ],
      "text/plain": [
       "AdaBoostClassifier(base_estimator=SVC(kernel='linear', probability=True),\n",
       "                   random_state=42)"
      ]
     },
     "execution_count": 4,
     "metadata": {},
     "output_type": "execute_result"
    }
   ],
   "source": [
    "from sklearn.ensemble import AdaBoostClassifier\n",
    "from sklearn.svm import SVC\n",
    "from sklearn.metrics import accuracy_score\n",
    "\n",
    "# Initialize the SVM base estimator\n",
    "base_estimator = SVC(kernel='linear', probability=True) \n",
    "# Initialize the AdaBoost classifier with SVM as the base estimator\n",
    "adaboost_svm_classifier = AdaBoostClassifier(base_estimator=base_estimator, n_estimators=50, random_state=42)\n",
    "# Train the AdaBoost classifier\n",
    "adaboost_svm_classifier.fit(X_train, y_train)\n",
    "\n"
   ]
  },
  {
   "cell_type": "markdown",
   "metadata": {},
   "source": [
    "Making Predictions and Evaluating the Model"
   ]
  },
  {
   "cell_type": "code",
   "execution_count": 6,
   "metadata": {},
   "outputs": [
    {
     "name": "stdout",
     "output_type": "stream",
     "text": [
      "Accuracy: 98.97%\n",
      "Precision: 97.95%\n",
      "Recall: 98.97%\n",
      "F1 Score: 98.46%\n"
     ]
    },
    {
     "name": "stderr",
     "output_type": "stream",
     "text": [
      "c:\\Users\\HIMA\\anaconda3\\Lib\\site-packages\\sklearn\\metrics\\_classification.py:1469: UndefinedMetricWarning: Precision is ill-defined and being set to 0.0 in labels with no predicted samples. Use `zero_division` parameter to control this behavior.\n",
      "  _warn_prf(average, modifier, msg_start, len(result))\n"
     ]
    },
    {
     "data": {
      "image/png": "[encoded data removed]",
      "text/plain": [
       "<Figure size 640x480 with 2 Axes>"
      ]
     },
     "metadata": {},
     "output_type": "display_data"
    }
   ],
   "source": [
    "# Make predictions on the test set\n",
    "y_pred = adaboost_svm_classifier.predict(X_test)\n",
    "\n",
    "# Calculate evaluation metrics\n",
    "accuracy = accuracy_score(y_test, y_pred)\n",
    "precision = precision_score(y_test, y_pred, average='weighted')  \n",
    "recall = recall_score(y_test, y_pred, average='weighted')       \n",
    "f1 = f1_score(y_test, y_pred, average='weighted')  \n",
    "\n",
    "# Display the metrics\n",
    "print(f'Accuracy: {accuracy * 100:.2f}%')\n",
    "print(f'Precision: {precision* 100:.2f}%')\n",
    "print(f'Recall: {recall* 100:.2f}%')\n",
    "print(f'F1 Score: {f1* 100:.2f}%')\n",
    "\n",
    "# Confusion matrix\n",
    "conf_matrix = confusion_matrix(y_test, y_pred)\n",
    "sns.heatmap(conf_matrix, annot=True, fmt='d', cmap='Blues')\n",
    "plt.xlabel('Predicted')\n",
    "plt.ylabel('Actual')\n",
    "plt.title('Confusion Matrix')\n",
    "plt.show()\n"
   ]
  }
 ],
 "metadata": {
  "kernelspec": {
   "display_name": "base",
   "language": "python",
   "name": "python3"
  },
  "language_info": {
   "codemirror_mode": {
    "name": "ipython",
    "version": 3
   },
   "file_extension": ".py",
   "mimetype": "text/x-python",
   "name": "python",
   "nbconvert_exporter": "python",
   "pygments_lexer": "ipython3",
   "version": "3.11.5"
  }
 },
 "nbformat": 4,
 "nbformat_minor": 2
}
